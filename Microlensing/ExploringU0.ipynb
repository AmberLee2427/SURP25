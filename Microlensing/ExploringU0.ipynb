{
 "cells": [
  {
   "cell_type": "code",
   "execution_count": 1,
   "id": "b76c18b9",
   "metadata": {},
   "outputs": [],
   "source": [
    "import os, pathlib\n",
    "os.chdir(\"/Users/gregcc/Documents/GitHub/SURP25/Microlensing\")"
   ]
  },
  {
   "cell_type": "code",
   "execution_count": null,
   "id": "c79f3065",
   "metadata": {},
   "outputs": [],
   "source": []
  }
 ],
 "metadata": {
  "kernelspec": {
   "display_name": "TheGuide",
   "language": "python",
   "name": "python3"
  },
  "language_info": {
   "codemirror_mode": {
    "name": "ipython",
    "version": 3
   },
   "file_extension": ".py",
   "mimetype": "text/x-python",
   "name": "python",
   "nbconvert_exporter": "python",
   "pygments_lexer": "ipython3",
   "version": "3.12.10"
  }
 },
 "nbformat": 4,
 "nbformat_minor": 5
}
