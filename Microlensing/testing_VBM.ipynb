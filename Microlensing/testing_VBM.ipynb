{
 "cells": [
  {
   "cell_type": "code",
   "execution_count": 1,
   "id": "40f362d1",
   "metadata": {},
   "outputs": [],
   "source": [
    "import VBMicrolensing"
   ]
  },
  {
   "cell_type": "code",
   "execution_count": 2,
   "id": "2408a886",
   "metadata": {},
   "outputs": [],
   "source": [
    "# Initialize VBMicrolensing() class object\n",
    "VBM = VBMicrolensing.VBMicrolensing()\n",
    "#Set relative accuracy\n",
    "VBM.RelTol = 1e-03\n",
    "#Set accuracy\n",
    "VBM.Tol=1e-03\n",
    "\n",
    "VBM.astrometry = True"
   ]
  },
  {
   "cell_type": "code",
   "execution_count": 3,
   "id": "2626ed9b",
   "metadata": {},
   "outputs": [
    {
     "name": "stdout",
     "output_type": "stream",
     "text": [
      "\u001b[0;31mDocstring:\u001b[0m\n",
      "Triple light curve and astrometry for a full array of observations.\n",
      "\n",
      "Parameters\n",
      "----------\n",
      "params : list[float]\n",
      "    List of parameters [log_s, log_q, u0, alpha, log_rho, log_tE, t0, \n",
      "                        log(s13), log(q3), psi\n",
      "                        paiN, paiE,     #components of the parallax vector\n",
      "                        muS_N, muS_E,   # proper motion components of the source (mas/yr)\n",
      "                        pai_S,          # parallax of the source (mas)\n",
      "                        thetaE          # Einstein angle (mas) \n",
      "                        ] \n",
      "times : list[float] \n",
      "    Array of times at which the magnification is calculated.\n",
      "\n",
      "Returns\n",
      "-------\n",
      "results: list[list[float],list[float],list[float],list[float],list[float],list[float],list[float]] \n",
      "    [Magnification array,\n",
      "        centroid of images N array, centroid of images E array, \n",
      "        centroid of lens N array, centroid of lens E array,\n",
      "        source position y1 array, source position y2 array]\n",
      "\u001b[0;31mType:\u001b[0m      method"
     ]
    }
   ],
   "source": [
    "VBM.TripleAstroLightCurve?"
   ]
  },
  {
   "cell_type": "code",
   "execution_count": 4,
   "id": "19427e92",
   "metadata": {},
   "outputs": [],
   "source": [
    "import numpy as np\n",
    "import matplotlib.pyplot as plt\n",
    "\n",
    "\n",
    "s12 = 0.9\n",
    "q2 = 0.028997\n",
    "u0 = 0.1\n",
    "alpha = 0.261799  \n",
    "rho = 0.01\n",
    "tE = 20\n",
    "t0 = 0\n",
    "s23 = 1.5\n",
    "q3 = 0.003270\n",
    "psi = 0.785398  \n",
    "\n",
    "\n",
    "piEN = 0.1\n",
    "piEE = 0.1\n",
    "muS_N = 0.1\n",
    "muS_E = 0.1\n",
    "piS = 0.1\n",
    "thetaE = 1.0\n",
    "\n",
    "# Time array\n",
    "num_points = 10\n",
    "tmin = -50\n",
    "tmax = 50\n",
    "t = np.linspace(t0 + tmin, t0 + tmax, num_points).tolist()\n",
    "\n",
    "params = [\n",
    "    np.log(s12), np.log(q2), u0, alpha, np.log(rho), np.log(tE), t0,\n",
    "    np.log(s23), np.log(q3), psi,\n",
    "    piEN, piEE, muS_N, muS_E, piS, thetaE\n",
    "]"
   ]
  },
  {
   "cell_type": "code",
   "execution_count": null,
   "id": "12775705",
   "metadata": {},
   "outputs": [
    {
     "ename": "",
     "evalue": "",
     "output_type": "error",
     "traceback": [
      "\u001b[1;31mThe Kernel crashed while executing code in the current cell or a previous cell. \n",
      "\u001b[1;31mPlease review the code in the cell(s) to identify a possible cause of the failure. \n",
      "\u001b[1;31mClick <a href='https://aka.ms/vscodeJupyterKernelCrash'>here</a> for more info. \n",
      "\u001b[1;31mView Jupyter <a href='command:jupyter.viewOutput'>log</a> for further details."
     ]
    }
   ],
   "source": [
    "result = VBM.TripleAstroLightCurve(params, t)\n"
   ]
  },
  {
   "cell_type": "code",
   "execution_count": null,
   "id": "8ba5a438",
   "metadata": {},
   "outputs": [
    {
     "ename": "",
     "evalue": "",
     "output_type": "error",
     "traceback": [
      "\u001b[1;31mThe Kernel crashed while executing code in the current cell or a previous cell. \n",
      "\u001b[1;31mPlease review the code in the cell(s) to identify a possible cause of the failure. \n",
      "\u001b[1;31mClick <a href='https://aka.ms/vscodeJupyterKernelCrash'>here</a> for more info. \n",
      "\u001b[1;31mView Jupyter <a href='command:jupyter.viewOutput'>log</a> for further details."
     ]
    }
   ],
   "source": [
    "params = [\n",
    "    np.log(1.0),     # log_s12 = 0\n",
    "    np.log(0.1),     # log_q2\n",
    "    0.01,            # u0\n",
    "    0.0,             # alpha\n",
    "    np.log(0.01),    # log_rho\n",
    "    np.log(10.0),    # log_tE\n",
    "    0.0,             # t0\n",
    "    np.log(1.0),     # log_s13 = 0\n",
    "    np.log(0.01),    # log_q3\n",
    "    0.0,             # psi\n",
    "    0.0, 0.0,        # piEN, piEE\n",
    "    0.0, 0.0,        # muS_N, muS_E\n",
    "    0.01,            # pi_S\n",
    "    1.0              # thetaE\n",
    "]\n",
    "\n",
    "t = np.linspace(-1, 1, 10).tolist()\n",
    "\n",
    "# Now call the function\n",
    "try:\n",
    "    result = VBM.TripleAstroLightCurve(params, t)\n",
    "    print(\"Success ✅\")\n",
    "except Exception as e:\n",
    "    print(\"Failed ❌\")\n",
    "    print(e)"
   ]
  },
  {
   "cell_type": "code",
   "execution_count": null,
   "id": "eb0c5883",
   "metadata": {},
   "outputs": [
    {
     "ename": "",
     "evalue": "",
     "output_type": "error",
     "traceback": [
      "\u001b[1;31mThe Kernel crashed while executing code in the current cell or a previous cell. \n",
      "\u001b[1;31mPlease review the code in the cell(s) to identify a possible cause of the failure. \n",
      "\u001b[1;31mClick <a href='https://aka.ms/vscodeJupyterKernelCrash'>here</a> for more info. \n",
      "\u001b[1;31mView Jupyter <a href='command:jupyter.viewOutput'>log</a> for further details."
     ]
    }
   ],
   "source": [
    "VBM.TripleLightCurveParallax(params, t)"
   ]
  },
  {
   "cell_type": "code",
   "execution_count": null,
   "id": "4bc4d848",
   "metadata": {},
   "outputs": [],
   "source": []
  }
 ],
 "metadata": {
  "kernelspec": {
   "display_name": "TheGuide",
   "language": "python",
   "name": "python3"
  },
  "language_info": {
   "codemirror_mode": {
    "name": "ipython",
    "version": 3
   },
   "file_extension": ".py",
   "mimetype": "text/x-python",
   "name": "python",
   "nbconvert_exporter": "python",
   "pygments_lexer": "ipython3",
   "version": "3.12.10"
  }
 },
 "nbformat": 4,
 "nbformat_minor": 5
}
