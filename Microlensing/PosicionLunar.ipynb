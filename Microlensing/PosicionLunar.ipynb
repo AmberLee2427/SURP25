{
 "cells": [
  {
   "cell_type": "code",
   "execution_count": 8,
   "id": "0f6a9979",
   "metadata": {},
   "outputs": [],
   "source": [
    "import os, pathlib\n",
    "os.chdir(\"/Users/gregcc/Documents/GitHub/SURP25/Microlensing\")"
   ]
  },
  {
   "cell_type": "code",
   "execution_count": 9,
   "id": "5e71795e",
   "metadata": {},
   "outputs": [],
   "source": [
    "from astropy.io import ascii\n",
    "import matplotlib.pyplot as plt\n",
    "import numpy as np\n",
    "from ML import TwoLens1S\n",
    "from ML import ThreeLens1S"
   ]
  },
  {
   "cell_type": "code",
   "execution_count": 10,
   "id": "e9c1a381",
   "metadata": {},
   "outputs": [],
   "source": [
    "s3_1 = 1.331622776601684\n",
    "s3_2 = 1.3225497220955418\n",
    "s3_3 = 1.3003845585056752\n",
    "s3_4 = 1.27783497862009\n",
    "s3_5 = 1.2683772233983162\n",
    "s3_6 = 1.2778349786200898\n",
    "s3_7 = .3003845585056752\n",
    "\n",
    "psi_1 = 0.00\n",
    "psi_2 = 0.9687602688129292\n",
    "psi_3 = 1.393457227228705\n",
    "psi_4 = 1.0026630929704057\n",
    "psi_5 = 1.7493835945116542e-16\n",
    "psi_6 = -1.0026630929704057\n",
    "psi_7 = -1.393457227228705"
   ]
  },
  {
   "cell_type": "code",
   "execution_count": 11,
   "id": "3d7c866e",
   "metadata": {},
   "outputs": [],
   "source": [
    "#parameters from Liebig, et al; (2010)\n",
    "q2 = 1e-3\n",
    "q3 = 1e-5\n",
    "s2 = 1.3\n",
    "#s3 = 1.3003845585056752\n",
    "#psi = 1.393457227228705\n",
    "q4 = q3 + q2 #for binary system\n",
    "u0_list =[-0.0445] #paper\n",
    "\n",
    "t0 = 0\n",
    "tE = 20\n",
    "rho = 0.0018\n",
    "rs = rho\n",
    "\n",
    "secnum = 45\n",
    "basenum = 2\n",
    "num_points = 100"
   ]
  },
  {
   "cell_type": "code",
   "execution_count": null,
   "id": "f25eb15a",
   "metadata": {},
   "outputs": [],
   "source": [
    "import numpy as np\n",
    "\n",
    "# put your parameters in lists so you can loop\n",
    "s3_list  = [s3_1, s3_2, s3_3, s3_4, s3_5, s3_6, s3_7]\n",
    "psi_list = [psi_1, psi_2, psi_3, psi_4, psi_5, psi_6, psi_7]\n",
    "\n",
    "runs = []  # to collect all results\n",
    "\n",
    "for i, (s3, psi) in enumerate(zip(s3_list, psi_list), start=1):\n",
    "    ex = ThreeLens1S(t0, tE, rho, u0_list, q2, q3, s2, s3, 357,\n",
    "                     psi, rs, secnum, basenum, num_points)\n",
    "    param = [\n",
    "        np.log(ex.s2), np.log(ex.q2), ex.u0_list[0], ex.alpha_deg,\n",
    "        np.log(ex.rho), np.log(ex.tE), ex.t0,\n",
    "        np.log(ex.s3), np.log(ex.q3), ex.psi_rad\n",
    "    ]\n",
    "    mag, *_ = ex.VBM.TripleLightCurve(param, ex.highres_t)\n",
    "\n",
    "    system = ex.systems[0]\n",
    "\n",
    "    # >>> Replace your dx/dy + data block with this <<<\n",
    "    if all(k in system for k in (\"cent_x_hr\",\"cent_y_hr\",\"y1s_hr\",\"y2s_hr\")):\n",
    "        cx = system[\"cent_x_hr\"]; cy = system[\"cent_y_hr\"]\n",
    "        sx = system[\"y1s_hr\"];    sy = system[\"y2s_hr\"]\n",
    "        dx = -(cx - sx); dy = (cy - sy)\n",
    "        tau_axis = ex.highres_tau\n",
    "    else:\n",
    "        # fallback to base grid if high-res not present\n",
    "        cx = system[\"cent_x\"]; cy = system[\"cent_y\"]\n",
    "        sx = system.get(\"y1s\", system.get(\"x_src\"))\n",
    "        sy = system.get(\"y2s\", system.get(\"y_src\"))\n",
    "        dx = -(cx - sx); dy = (cy - sy)\n",
    "        tau_axis = ex.tau\n",
    "        mag, *_ = ex.VBM.TripleLightCurve(param, ex.t)  # recompute base-grid mag\n",
    "\n",
    "    data = np.column_stack([tau_axis, mag, dx, dy])\n",
    "    # <<< End replacement >>>\n",
    "\n",
    "    runs.append({\n",
    "        \"run\": i,\n",
    "        \"s3\": s3,\n",
    "        \"psi\": psi,\n",
    "        \"data\": data\n",
    "    })\n",
    "\n",
    "# === Save ===\n",
    "# Option 1: one NPZ containing everything\n",
    "np.savez_compressed(\n",
    "    \"mass_change_all.npz\",\n",
    "    **{f\"run{i}\": run[\"data\"] for i, run in enumerate(runs, 1)},\n",
    "    s3_list=np.array(s3_list),\n",
    "    psi_list=np.array(psi_list)\n",
    ")\n",
    "\n",
    "# Option 2: separate CSVs for each run (with headers)\n",
    "for run in runs:\n",
    "    fname = f\"lunapos_run{run['run']}.csv\"\n",
    "    header = f\"tau,mag_triple,dx_three,dy_three,s3={run['s3']},psi={run['psi']}\"\n",
    "    np.savetxt(fname, run[\"data\"], delimiter=\",\", header=header,\n",
    "               comments=\"\", fmt=\"%.10e\")\n"
   ]
  },
  {
   "cell_type": "code",
   "execution_count": null,
   "id": "a142640d",
   "metadata": {},
   "outputs": [],
   "source": []
  }
 ],
 "metadata": {
  "kernelspec": {
   "display_name": "TheGuide",
   "language": "python",
   "name": "python3"
  },
  "language_info": {
   "codemirror_mode": {
    "name": "ipython",
    "version": 3
   },
   "file_extension": ".py",
   "mimetype": "text/x-python",
   "name": "python",
   "nbconvert_exporter": "python",
   "pygments_lexer": "ipython3",
   "version": "3.12.10"
  }
 },
 "nbformat": 4,
 "nbformat_minor": 5
}
