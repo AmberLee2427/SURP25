{
 "cells": [
  {
   "cell_type": "code",
   "execution_count": 8,
   "id": "93e74712",
   "metadata": {},
   "outputs": [],
   "source": [
    "import numpy as np\n",
    "import VBMicrolensing\n",
    "import math\n",
    "import matplotlib.pyplot as plt\n"
   ]
  },
  {
   "cell_type": "code",
   "execution_count": 9,
   "id": "a7b84975",
   "metadata": {},
   "outputs": [],
   "source": [
    "# Initialize VBMicrolensing() class object\n",
    "VBM = VBMicrolensing.VBMicrolensing()\n",
    "#Set relative accuracy\n",
    "VBM.RelTol = 1e-03\n",
    "#Set accuracy\n",
    "VBM.Tol=1e-03"
   ]
  },
  {
   "cell_type": "code",
   "execution_count": 18,
   "id": "f6a04c83",
   "metadata": {},
   "outputs": [],
   "source": [
    "# Separation between the first two lenses in descending order of mass in units of total ang. Einstein radii\n",
    "s12 = 0.765\n",
    "\n",
    "# Mass ratio lens 2\n",
    "q2 = 0.09\n",
    "\n",
    "# impact parameter\n",
    "u0 = 0.2\n",
    "\n",
    "# alpha\n",
    "alpha= 3.212\n",
    "\n",
    "# source radius in Einstein radii of the total mass.\n",
    "rho = 0.0567\n",
    "\n",
    "# einstein radius crossing time\n",
    "tE = 20\n",
    "\n",
    "# time of peak magnification\n",
    "t0 = 0\n",
    "\n",
    "#separation between the last two lenses in descending order of mass in units of total ang. Einstein radii\n",
    "s23=0.1\n",
    "\n",
    "# Mass ratio lens 3\n",
    "q3=0.005\n",
    "\n",
    "# psi\n",
    "psi=-1.5\n",
    "\n",
    "\n",
    "num_points = 1000\n",
    "tmin = -50\n",
    "tmax = 50\n",
    "t = np.linspace(t0 + tmin, t0 + tmax, num_points)\n",
    "\n",
    "params = [np.log(s12), np.log(q2), u0, alpha, np.log(rho), np.log(tE), t0, np.log(s23), np.log(q3), psi]\n",
    "\n",
    "# Set the Method that you want use : Singlepoly, Multipoly, Nopoly.\n",
    "VBM.SetMethod(VBM.Method.Nopoly)\n",
    "\n",
    "magtriple, y1, y2 = VBM.TripleLightCurve(params, t)"
   ]
  },
  {
   "cell_type": "code",
   "execution_count": 19,
   "id": "6432a8b9",
   "metadata": {},
   "outputs": [],
   "source": [
    "caustics = VBM.Multicaustics()\n",
    "criticalcurves = VBM.Multicriticalcurves()"
   ]
  },
  {
   "cell_type": "code",
   "execution_count": 21,
   "id": "a75874d5",
   "metadata": {},
   "outputs": [
    {
     "data": {
      "text/plain": [
       "(-2.0, 2.0)"
      ]
     },
     "execution_count": 21,
     "metadata": {},
     "output_type": "execute_result"
    },
    {
     "data": {
      "image/png": "[encoded data removed]",
      "text/plain": [
       "<Figure size 640x480 with 1 Axes>"
      ]
     },
     "metadata": {},
     "output_type": "display_data"
    }
   ],
   "source": [
    "for cau in caustics:\n",
    "    plt.plot(cau[0],cau[1])\n",
    "\n",
    "    for crit in criticalcurves:\n",
    "        plt.plot(crit[0], crit[1], 'k')\n",
    "plt.plot(y1,y2)\n",
    "\n",
    "plt.ylim(-2,2)\n"
   ]
  },
  {
   "cell_type": "code",
   "execution_count": 13,
   "id": "ee1b8bc7",
   "metadata": {},
   "outputs": [
    {
     "name": "stdout",
     "output_type": "stream",
     "text": [
      "\u001b[0;31mType:\u001b[0m        Method\n",
      "\u001b[0;31mString form:\u001b[0m Method.Nopoly\n",
      "\u001b[0;31mFile:\u001b[0m        /opt/anaconda3/envs/TheGuide/lib/python3.12/site-packages/VBMicrolensing/VBMicrolensing.so\n",
      "\u001b[0;31mDocstring:\u001b[0m  \n",
      "Members:\n",
      "\n",
      "Singlepoly\n",
      "\n",
      "Multipoly\n",
      "\n",
      "Nopoly"
     ]
    }
   ],
   "source": [
    "?VBM.Method.Nopoly"
   ]
  },
  {
   "cell_type": "code",
   "execution_count": 22,
   "id": "2252f915",
   "metadata": {},
   "outputs": [
    {
     "name": "stdout",
     "output_type": "stream",
     "text": [
      "\u001b[0;31mType:\u001b[0m        Method\n",
      "\u001b[0;31mString form:\u001b[0m Method.Nopoly\n",
      "\u001b[0;31mFile:\u001b[0m        /opt/anaconda3/envs/TheGuide/lib/python3.12/site-packages/VBMicrolensing/VBMicrolensing.so\n",
      "\u001b[0;31mDocstring:\u001b[0m  \n",
      "Members:\n",
      "\n",
      "Singlepoly\n",
      "\n",
      "Multipoly\n",
      "\n",
      "Nopoly"
     ]
    }
   ],
   "source": [
    "?VBM.Nopoly"
   ]
  },
  {
   "cell_type": "code",
   "execution_count": null,
   "id": "87dec688",
   "metadata": {},
   "outputs": [],
   "source": []
  }
 ],
 "metadata": {
  "kernelspec": {
   "display_name": "TheGuide",
   "language": "python",
   "name": "python3"
  },
  "language_info": {
   "codemirror_mode": {
    "name": "ipython",
    "version": 3
   },
   "file_extension": ".py",
   "mimetype": "text/x-python",
   "name": "python",
   "nbconvert_exporter": "python",
   "pygments_lexer": "ipython3",
   "version": "3.12.10"
  }
 },
 "nbformat": 4,
 "nbformat_minor": 5
}
