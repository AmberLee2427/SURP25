{
 "cells": [
  {
   "cell_type": "code",
   "execution_count": 1,
   "id": "9454e92f",
   "metadata": {},
   "outputs": [],
   "source": [
    "import os, pathlib\n",
    "os.chdir(\"/Users/gregcc/Documents/GitHub/SURP25/Microlensing\")"
   ]
  },
  {
   "cell_type": "code",
   "execution_count": 2,
   "id": "5ecf1abf",
   "metadata": {},
   "outputs": [
    {
     "ename": "ImportError",
     "evalue": "cannot import name 'OneLens1S' from 'ML' (/Users/gregcc/Documents/GitHub/SURP25/Microlensing/ML.py)",
     "output_type": "error",
     "traceback": [
      "\u001b[0;31m---------------------------------------------------------------------------\u001b[0m",
      "\u001b[0;31mImportError\u001b[0m                               Traceback (most recent call last)",
      "Cell \u001b[0;32mIn[2], line 6\u001b[0m\n\u001b[1;32m      4\u001b[0m \u001b[38;5;28;01mfrom\u001b[39;00m\u001b[38;5;250m \u001b[39m\u001b[38;5;21;01mML\u001b[39;00m\u001b[38;5;250m \u001b[39m\u001b[38;5;28;01mimport\u001b[39;00m TwoLens1S\n\u001b[1;32m      5\u001b[0m \u001b[38;5;28;01mfrom\u001b[39;00m\u001b[38;5;250m \u001b[39m\u001b[38;5;21;01mML\u001b[39;00m\u001b[38;5;250m \u001b[39m\u001b[38;5;28;01mimport\u001b[39;00m ThreeLens1S\n\u001b[0;32m----> 6\u001b[0m \u001b[38;5;28;01mfrom\u001b[39;00m\u001b[38;5;250m \u001b[39m\u001b[38;5;21;01mML\u001b[39;00m\u001b[38;5;250m \u001b[39m\u001b[38;5;28;01mimport\u001b[39;00m OneLens1S\n",
      "\u001b[0;31mImportError\u001b[0m: cannot import name 'OneLens1S' from 'ML' (/Users/gregcc/Documents/GitHub/SURP25/Microlensing/ML.py)"
     ]
    }
   ],
   "source": [
    "from astropy.io import ascii\n",
    "import matplotlib.pyplot as plt\n",
    "import numpy as np\n",
    "from ML import TwoLens1S\n",
    "from ML import ThreeLens1S\n",
    "from ML import OneLens1S"
   ]
  },
  {
   "cell_type": "code",
   "execution_count": null,
   "id": "42a43d13",
   "metadata": {},
   "outputs": [],
   "source": []
  }
 ],
 "metadata": {
  "kernelspec": {
   "display_name": "TheGuide",
   "language": "python",
   "name": "python3"
  },
  "language_info": {
   "codemirror_mode": {
    "name": "ipython",
    "version": 3
   },
   "file_extension": ".py",
   "mimetype": "text/x-python",
   "name": "python",
   "nbconvert_exporter": "python",
   "pygments_lexer": "ipython3",
   "version": "3.12.10"
  }
 },
 "nbformat": 4,
 "nbformat_minor": 5
}
